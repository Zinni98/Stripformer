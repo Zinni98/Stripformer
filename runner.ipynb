{
  "cells": [
    {
      "cell_type": "markdown",
      "metadata": {
        "id": "view-in-github",
        "colab_type": "text"
      },
      "source": [
        "<a href=\"https://colab.research.google.com/github/Zinni98/Stripformer/blob/main/runner.ipynb\" target=\"_parent\"><img src=\"https://colab.research.google.com/assets/colab-badge.svg\" alt=\"Open In Colab\"/></a>"
      ]
    },
    {
      "cell_type": "code",
      "source": [
        "from google.colab import drive\n",
        "drive.mount(\"/content/gdrive/\")"
      ],
      "metadata": {
        "id": "E5Yl9mryJlG5",
        "outputId": "c503e438-9277-4bef-ce39-f1e2a7bffd65",
        "colab": {
          "base_uri": "https://localhost:8080/"
        }
      },
      "execution_count": 94,
      "outputs": [
        {
          "output_type": "stream",
          "name": "stdout",
          "text": [
            "Drive already mounted at /content/gdrive/; to attempt to forcibly remount, call drive.mount(\"/content/gdrive/\", force_remount=True).\n"
          ]
        }
      ]
    },
    {
      "cell_type": "code",
      "source": [
        "github_user = \"Zinni98\"\n",
        "CLONE_PATH = \"/content/gdrive/My\\ Drive/\"\n",
        "REPO_PATH = \"/content/gdrive/My\\ Drive/Stripformer/\"\n",
        "REPO_URL = f\"https://github.com/{github_user}/Stripformer.git\""
      ],
      "metadata": {
        "id": "BU0MTzYrLu2I"
      },
      "execution_count": 109,
      "outputs": []
    },
    {
      "cell_type": "code",
      "execution_count": 114,
      "metadata": {
        "id": "Zfy-3bN2JiZC",
        "outputId": "e50e5ffe-1b5f-4d58-9840-402f3918c71f",
        "colab": {
          "base_uri": "https://localhost:8080/"
        }
      },
      "outputs": [
        {
          "output_type": "stream",
          "name": "stdout",
          "text": [
            "Already up to date.\n"
          ]
        }
      ],
      "source": [
        "!if cd $REPO_PATH; then git pull; else cd $CLONE_PATH && git clone $REPO_URL; fi"
      ]
    },
    {
      "cell_type": "code",
      "source": [
        "%cd $REPO_PATH"
      ],
      "metadata": {
        "id": "YRxxS3vSYZ5k",
        "outputId": "8915a07b-4912-4ec8-eca9-940b80722c92",
        "colab": {
          "base_uri": "https://localhost:8080/"
        }
      },
      "execution_count": 112,
      "outputs": [
        {
          "output_type": "stream",
          "name": "stdout",
          "text": [
            "/content/gdrive/My Drive/Stripformer\n"
          ]
        }
      ]
    },
    {
      "cell_type": "code",
      "execution_count": null,
      "metadata": {
        "id": "fA_9ucvoJiZC"
      },
      "outputs": [],
      "source": [
        "import os\n",
        "import sys\n",
        "\n",
        "sys.path.append(REPO_PATH)"
      ]
    },
    {
      "cell_type": "code",
      "execution_count": null,
      "metadata": {
        "id": "3_SHSY8aJiZD"
      },
      "outputs": [],
      "source": [
        "import main\n",
        "main_fn()"
      ]
    }
  ],
  "metadata": {
    "kernelspec": {
      "display_name": "siv-project",
      "language": "python",
      "name": "python3"
    },
    "language_info": {
      "name": "python",
      "version": "3.7.13 (default, Mar 28 2022, 07:24:34) \n[Clang 12.0.0 ]"
    },
    "orig_nbformat": 4,
    "vscode": {
      "interpreter": {
        "hash": "7ef8527aab6a296290f9d4f514732edc4c1019ec087e8e4ae564dc20eb25fc51"
      }
    },
    "colab": {
      "provenance": [],
      "include_colab_link": true
    }
  },
  "nbformat": 4,
  "nbformat_minor": 0
}