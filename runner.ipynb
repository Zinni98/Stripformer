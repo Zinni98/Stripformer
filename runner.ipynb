{
 "cells": [
  {
   "attachments": {},
   "cell_type": "markdown",
   "metadata": {},
   "source": [
    "Path specifying where to clone the repository. Change this if you don't want to clone in the path already specified."
   ]
  },
  {
   "cell_type": "code",
   "execution_count": null,
   "metadata": {},
   "outputs": [],
   "source": [
    "%env CLONE_PATH=\"/content/gdrive/My Drive/\""
   ]
  },
  {
   "attachments": {},
   "cell_type": "markdown",
   "metadata": {},
   "source": [
    "Change this to your github username if you have forked the repository"
   ]
  },
  {
   "cell_type": "code",
   "execution_count": null,
   "metadata": {},
   "outputs": [],
   "source": [
    "%env GITHUB_NAME=\"Zinni98\""
   ]
  },
  {
   "attachments": {},
   "cell_type": "markdown",
   "metadata": {},
   "source": [
    "Path specifying where the repository is. Change this if the repo has been cloned to a different location"
   ]
  },
  {
   "cell_type": "code",
   "execution_count": null,
   "metadata": {},
   "outputs": [],
   "source": [
    "%env REPO_PATH=\"/content/gdrive/My Drive/Stripformer/\""
   ]
  },
  {
   "cell_type": "code",
   "execution_count": null,
   "metadata": {},
   "outputs": [],
   "source": [
    "%env REPO_URL=\"https://github.com/$GITHUB_NAME/Stripformer.git\""
   ]
  },
  {
   "cell_type": "code",
   "execution_count": null,
   "metadata": {},
   "outputs": [],
   "source": [
    "% if cd $REPO_PATH; then git pull; else git clone $REPO_URL; fi"
   ]
  },
  {
   "cell_type": "code",
   "execution_count": null,
   "metadata": {},
   "outputs": [],
   "source": [
    "import os\n",
    "import sys\n",
    "\n",
    "repo_path = os.getenv(\"REPO_PATH\")\n",
    "sys.path.append(repo_path)"
   ]
  },
  {
   "cell_type": "code",
   "execution_count": null,
   "metadata": {},
   "outputs": [],
   "source": [
    "import main\n",
    "main_fn()"
   ]
  }
 ],
 "metadata": {
  "kernelspec": {
   "display_name": "siv-project",
   "language": "python",
   "name": "python3"
  },
  "language_info": {
   "name": "python",
   "version": "3.7.13 (default, Mar 28 2022, 07:24:34) \n[Clang 12.0.0 ]"
  },
  "orig_nbformat": 4,
  "vscode": {
   "interpreter": {
    "hash": "7ef8527aab6a296290f9d4f514732edc4c1019ec087e8e4ae564dc20eb25fc51"
   }
  }
 },
 "nbformat": 4,
 "nbformat_minor": 2
}
