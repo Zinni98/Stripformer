{
  "cells": [
    {
      "cell_type": "markdown",
      "metadata": {
        "id": "view-in-github",
        "colab_type": "text"
      },
      "source": [
        "<a href=\"https://colab.research.google.com/github/Zinni98/Stripformer/blob/main/runner.ipynb\" target=\"_parent\"><img src=\"https://colab.research.google.com/assets/colab-badge.svg\" alt=\"Open In Colab\"/></a>"
      ]
    },
    {
      "cell_type": "code",
      "source": [
        "from google.colab import drive\n",
        "drive.mount(\"/content/gdrive/\")"
      ],
      "metadata": {
        "id": "E5Yl9mryJlG5",
        "outputId": "9aeb6d17-153a-4bd0-a59f-20a6bf5540a0",
        "colab": {
          "base_uri": "https://localhost:8080/"
        }
      },
      "execution_count": 1,
      "outputs": [
        {
          "output_type": "stream",
          "name": "stdout",
          "text": [
            "Drive already mounted at /content/gdrive/; to attempt to forcibly remount, call drive.mount(\"/content/gdrive/\", force_remount=True).\n"
          ]
        }
      ]
    },
    {
      "cell_type": "code",
      "source": [
        "github_user = \"Zinni98\"\n",
        "CLONE_PATH = \"/content/gdrive/My\\ Drive/\"\n",
        "REPO_PATH = \"/content/gdrive/My\\ Drive/Stripformer/\"\n",
        "REPO_URL = f\"https://github.com/{github_user}/Stripformer.git\""
      ],
      "metadata": {
        "id": "BU0MTzYrLu2I"
      },
      "execution_count": 2,
      "outputs": []
    },
    {
      "cell_type": "code",
      "execution_count": null,
      "metadata": {
        "id": "Zfy-3bN2JiZC"
      },
      "outputs": [],
      "source": [
        "!if cd $REPO_PATH; then git pull; else cd $CLONE_PATH && git clone $REPO_URL; fi"
      ]
    },
    {
      "cell_type": "code",
      "source": [
        "%cd $REPO_PATH"
      ],
      "metadata": {
        "id": "YRxxS3vSYZ5k",
        "outputId": "252fd090-9dd0-44e1-b0b3-eccf641a29c9",
        "colab": {
          "base_uri": "https://localhost:8080/"
        }
      },
      "execution_count": 3,
      "outputs": [
        {
          "output_type": "stream",
          "name": "stdout",
          "text": [
            "/content/gdrive/My Drive/Stripformer\n"
          ]
        }
      ]
    },
    {
      "cell_type": "code",
      "source": [
        "!pip install -r requirements.txt"
      ],
      "metadata": {
        "id": "PbIlrNWKaGVZ"
      },
      "execution_count": null,
      "outputs": []
    },
    {
      "cell_type": "code",
      "source": [
        "!wandb login"
      ],
      "metadata": {
        "id": "UI3762zIlKiu",
        "outputId": "5eababae-2e06-42e1-b148-aad3e3128f98",
        "colab": {
          "base_uri": "https://localhost:8080/"
        }
      },
      "execution_count": 4,
      "outputs": [
        {
          "output_type": "stream",
          "name": "stdout",
          "text": [
            "\u001b[34m\u001b[1mwandb\u001b[0m: Logging into wandb.ai. (Learn how to deploy a W&B server locally: https://wandb.me/wandb-server)\n",
            "\u001b[34m\u001b[1mwandb\u001b[0m: You can find your API key in your browser here: https://wandb.ai/authorize\n",
            "\u001b[34m\u001b[1mwandb\u001b[0m: Paste an API key from your profile and hit enter, or press ctrl+c to quit: \n",
            "\u001b[34m\u001b[1mwandb\u001b[0m: Appending key for api.wandb.ai to your netrc file: /root/.netrc\n"
          ]
        }
      ]
    },
    {
      "cell_type": "code",
      "execution_count": 5,
      "metadata": {
        "id": "fA_9ucvoJiZC"
      },
      "outputs": [],
      "source": [
        "import os\n",
        "import sys\n",
        "\n",
        "sys.path.append(REPO_PATH)"
      ]
    },
    {
      "cell_type": "code",
      "source": [
        "from main import main_fn\n",
        "main_fn()"
      ],
      "metadata": {
        "id": "yXnLBsQeZmgb",
        "outputId": "568a5434-4cab-4248-a2fd-9c7b56614994",
        "colab": {
          "base_uri": "https://localhost:8080/",
          "height": 589,
          "referenced_widgets": [
            "9f54535b652241038248cc474442e8b9"
          ]
        }
      },
      "execution_count": null,
      "outputs": [
        {
          "metadata": {
            "tags": null
          },
          "name": "stderr",
          "output_type": "stream",
          "text": [
            "Downloading: \"https://download.pytorch.org/models/vgg19-dcbb9e9d.pth\" to /root/.cache/torch/hub/checkpoints/vgg19-dcbb9e9d.pth\n"
          ]
        },
        {
          "data": {
            "application/vnd.jupyter.widget-view+json": {
              "model_id": "9f54535b652241038248cc474442e8b9",
              "version_major": 2,
              "version_minor": 0
            },
            "text/plain": [
              "  0%|          | 0.00/548M [00:00<?, ?B/s]"
            ]
          },
          "metadata": {},
          "output_type": "display_data"
        },
        {
          "metadata": {
            "tags": null
          },
          "name": "stderr",
          "output_type": "stream",
          "text": [
            "\u001b[34m\u001b[1mwandb\u001b[0m: Currently logged in as: \u001b[33malessandro-zinni\u001b[0m (\u001b[33malezinni\u001b[0m). Use \u001b[1m`wandb login --relogin`\u001b[0m to force relogin\n"
          ]
        },
        {
          "data": {
            "text/html": [
              "Tracking run with wandb version 0.13.10"
            ],
            "text/plain": [
              "<IPython.core.display.HTML object>"
            ]
          },
          "metadata": {},
          "output_type": "display_data"
        },
        {
          "data": {
            "text/html": [
              "Run data is saved locally in <code>/content/gdrive/My Drive/Stripformer/wandb/run-20230303_124544-ysl61dfr</code>"
            ],
            "text/plain": [
              "<IPython.core.display.HTML object>"
            ]
          },
          "metadata": {},
          "output_type": "display_data"
        },
        {
          "data": {
            "text/html": [
              "Syncing run <strong><a href='https://wandb.ai/alezinni/stripformer/runs/ysl61dfr' target=\"_blank\">devout-mountain-4</a></strong> to <a href='https://wandb.ai/alezinni/stripformer' target=\"_blank\">Weights & Biases</a> (<a href='https://wandb.me/run' target=\"_blank\">docs</a>)<br/>"
            ],
            "text/plain": [
              "<IPython.core.display.HTML object>"
            ]
          },
          "metadata": {},
          "output_type": "display_data"
        },
        {
          "data": {
            "text/html": [
              " View project at <a href='https://wandb.ai/alezinni/stripformer' target=\"_blank\">https://wandb.ai/alezinni/stripformer</a>"
            ],
            "text/plain": [
              "<IPython.core.display.HTML object>"
            ]
          },
          "metadata": {},
          "output_type": "display_data"
        },
        {
          "data": {
            "text/html": [
              " View run at <a href='https://wandb.ai/alezinni/stripformer/runs/ysl61dfr' target=\"_blank\">https://wandb.ai/alezinni/stripformer/runs/ysl61dfr</a>"
            ],
            "text/plain": [
              "<IPython.core.display.HTML object>"
            ]
          },
          "metadata": {},
          "output_type": "display_data"
        },
        {
          "metadata": {
            "tags": null
          },
          "name": "stdout",
          "output_type": "stream",
          "text": [
            "----------- Epoch 1 -----------\n"
          ]
        },
        {
          "metadata": {
            "tags": null
          },
          "name": "stderr",
          "output_type": "stream",
          "text": [
            "1015 Batch: 100%|██████████| 1016/1016 [10:35<00:00,  1.60batch/s, psnr=11.9, loss=0.00635]\n",
            "555 Batch: 100%|██████████| 556/556 [05:12<00:00,  1.78batch/s, psnr=11.3, loss=0.0263]\n"
          ]
        },
        {
          "metadata": {
            "tags": null
          },
          "name": "stdout",
          "output_type": "stream",
          "text": [
            "Training loss: 0.006351173109664604 \t Training pnsr: 11.893624808609955 \n",
            "\n",
            "Test loss: 0.026344196832362433 \t Test pnsr: 11.31451575161636 \n",
            "\n",
            "----------- Epoch 2 -----------\n"
          ]
        },
        {
          "metadata": {
            "tags": null
          },
          "name": "stderr",
          "output_type": "stream",
          "text": [
            "1015 Batch: 100%|██████████| 1016/1016 [03:23<00:00,  5.00batch/s, psnr=12.3, loss=0.00528]\n",
            "555 Batch: 100%|██████████| 556/556 [00:48<00:00, 11.41batch/s, psnr=11.4, loss=0.0252]\n"
          ]
        },
        {
          "metadata": {
            "tags": null
          },
          "name": "stdout",
          "output_type": "stream",
          "text": [
            "Training loss: 0.005277905027555324 \t Training pnsr: 12.2824756920807 \n",
            "\n",
            "Test loss: 0.025182819117990623 \t Test pnsr: 11.391247350175997 \n",
            "\n",
            "----------- Epoch 3 -----------\n"
          ]
        },
        {
          "metadata": {
            "tags": null
          },
          "name": "stderr",
          "output_type": "stream",
          "text": [
            "1015 Batch: 100%|██████████| 1016/1016 [03:23<00:00,  4.99batch/s, psnr=12.3, loss=0.00508]\n",
            "555 Batch: 100%|██████████| 556/556 [00:48<00:00, 11.47batch/s, psnr=12.2, loss=0.0204]\n"
          ]
        },
        {
          "metadata": {
            "tags": null
          },
          "name": "stdout",
          "output_type": "stream",
          "text": [
            "Training loss: 0.005082322762386258 \t Training pnsr: 12.322024949422971 \n",
            "\n",
            "Test loss: 0.02037026197167531 \t Test pnsr: 12.194938939503997 \n",
            "\n",
            "----------- Epoch 4 -----------\n"
          ]
        },
        {
          "output_type": "stream",
          "name": "stderr",
          "text": [
            "98 Batch:  10%|▉         | 98/1016 [00:19<03:01,  5.06batch/s, psnr=13, loss=0.00445]"
          ]
        }
      ]
    },
    {
      "cell_type": "code",
      "source": [],
      "metadata": {
        "id": "P4NMIu0rl9i2"
      },
      "execution_count": null,
      "outputs": []
    }
  ],
  "metadata": {
    "kernelspec": {
      "display_name": "siv-project",
      "language": "python",
      "name": "python3"
    },
    "language_info": {
      "name": "python",
      "version": "3.7.13 (default, Mar 28 2022, 07:24:34) \n[Clang 12.0.0 ]"
    },
    "orig_nbformat": 4,
    "vscode": {
      "interpreter": {
        "hash": "7ef8527aab6a296290f9d4f514732edc4c1019ec087e8e4ae564dc20eb25fc51"
      }
    },
    "colab": {
      "provenance": [],
      "include_colab_link": true
    },
    "widgets": {
      "application/vnd.jupyter.widget-state+json": {}
    },
    "accelerator": "GPU",
    "gpuClass": "premium"
  },
  "nbformat": 4,
  "nbformat_minor": 0
}